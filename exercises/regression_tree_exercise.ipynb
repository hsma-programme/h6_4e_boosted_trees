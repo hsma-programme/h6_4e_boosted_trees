{
 "cells": [
  {
   "cell_type": "markdown",
   "metadata": {},
   "source": [
    "# HSMA 6 - Session 4E - Boosted Trees Exercise 2 - Regression Trees"
   ]
  },
  {
   "cell_type": "markdown",
   "metadata": {},
   "source": [
    "We're going to work with a dataset to try to predict patient length of stay. "
   ]
  },
  {
   "cell_type": "code",
   "execution_count": 2,
   "metadata": {},
   "outputs": [],
   "source": [
    "import pandas as pd\n",
    "\n",
    "# import the relevant models from Sklearn, XGBoost, CatBoost and LightGBM\n",
    "# YOUR CODE HERE\n",
    "\n",
    "# import any other libraries you need\n",
    "# YOUR CODE HERE"
   ]
  },
  {
   "cell_type": "markdown",
   "metadata": {},
   "source": [
    "Load in the dataframe."
   ]
  },
  {
   "cell_type": "code",
   "execution_count": 5,
   "metadata": {},
   "outputs": [],
   "source": [
    "los_df = pd.read_csv(\"../datasets/los_dataset/LengthOfStay.csv\", index_col=\"eid\")"
   ]
  },
  {
   "cell_type": "markdown",
   "metadata": {},
   "source": [
    "View the dataframe."
   ]
  },
  {
   "cell_type": "code",
   "execution_count": 6,
   "metadata": {},
   "outputs": [
    {
     "data": {
      "text/html": [
       "<div>\n",
       "<style scoped>\n",
       "    .dataframe tbody tr th:only-of-type {\n",
       "        vertical-align: middle;\n",
       "    }\n",
       "\n",
       "    .dataframe tbody tr th {\n",
       "        vertical-align: top;\n",
       "    }\n",
       "\n",
       "    .dataframe thead th {\n",
       "        text-align: right;\n",
       "    }\n",
       "</style>\n",
       "<table border=\"1\" class=\"dataframe\">\n",
       "  <thead>\n",
       "    <tr style=\"text-align: right;\">\n",
       "      <th></th>\n",
       "      <th>vdate</th>\n",
       "      <th>rcount</th>\n",
       "      <th>gender</th>\n",
       "      <th>dialysisrenalendstage</th>\n",
       "      <th>asthma</th>\n",
       "      <th>irondef</th>\n",
       "      <th>pneum</th>\n",
       "      <th>substancedependence</th>\n",
       "      <th>psychologicaldisordermajor</th>\n",
       "      <th>depress</th>\n",
       "      <th>...</th>\n",
       "      <th>sodium</th>\n",
       "      <th>glucose</th>\n",
       "      <th>bloodureanitro</th>\n",
       "      <th>creatinine</th>\n",
       "      <th>bmi</th>\n",
       "      <th>pulse</th>\n",
       "      <th>respiration</th>\n",
       "      <th>secondarydiagnosisnonicd9</th>\n",
       "      <th>facid</th>\n",
       "      <th>lengthofstay</th>\n",
       "    </tr>\n",
       "    <tr>\n",
       "      <th>eid</th>\n",
       "      <th></th>\n",
       "      <th></th>\n",
       "      <th></th>\n",
       "      <th></th>\n",
       "      <th></th>\n",
       "      <th></th>\n",
       "      <th></th>\n",
       "      <th></th>\n",
       "      <th></th>\n",
       "      <th></th>\n",
       "      <th></th>\n",
       "      <th></th>\n",
       "      <th></th>\n",
       "      <th></th>\n",
       "      <th></th>\n",
       "      <th></th>\n",
       "      <th></th>\n",
       "      <th></th>\n",
       "      <th></th>\n",
       "      <th></th>\n",
       "      <th></th>\n",
       "    </tr>\n",
       "  </thead>\n",
       "  <tbody>\n",
       "    <tr>\n",
       "      <th>1</th>\n",
       "      <td>8/29/2012</td>\n",
       "      <td>0</td>\n",
       "      <td>F</td>\n",
       "      <td>0</td>\n",
       "      <td>0</td>\n",
       "      <td>0</td>\n",
       "      <td>0</td>\n",
       "      <td>0</td>\n",
       "      <td>0</td>\n",
       "      <td>0</td>\n",
       "      <td>...</td>\n",
       "      <td>140.361132</td>\n",
       "      <td>192.476918</td>\n",
       "      <td>12.0</td>\n",
       "      <td>1.390722</td>\n",
       "      <td>30.432418</td>\n",
       "      <td>96</td>\n",
       "      <td>6.5</td>\n",
       "      <td>4</td>\n",
       "      <td>B</td>\n",
       "      <td>3</td>\n",
       "    </tr>\n",
       "    <tr>\n",
       "      <th>2</th>\n",
       "      <td>5/26/2012</td>\n",
       "      <td>5+</td>\n",
       "      <td>F</td>\n",
       "      <td>0</td>\n",
       "      <td>0</td>\n",
       "      <td>0</td>\n",
       "      <td>0</td>\n",
       "      <td>0</td>\n",
       "      <td>0</td>\n",
       "      <td>0</td>\n",
       "      <td>...</td>\n",
       "      <td>136.731692</td>\n",
       "      <td>94.078507</td>\n",
       "      <td>8.0</td>\n",
       "      <td>0.943164</td>\n",
       "      <td>28.460516</td>\n",
       "      <td>61</td>\n",
       "      <td>6.5</td>\n",
       "      <td>1</td>\n",
       "      <td>A</td>\n",
       "      <td>7</td>\n",
       "    </tr>\n",
       "    <tr>\n",
       "      <th>3</th>\n",
       "      <td>9/22/2012</td>\n",
       "      <td>1</td>\n",
       "      <td>F</td>\n",
       "      <td>0</td>\n",
       "      <td>0</td>\n",
       "      <td>0</td>\n",
       "      <td>0</td>\n",
       "      <td>0</td>\n",
       "      <td>0</td>\n",
       "      <td>0</td>\n",
       "      <td>...</td>\n",
       "      <td>133.058514</td>\n",
       "      <td>130.530524</td>\n",
       "      <td>12.0</td>\n",
       "      <td>1.065750</td>\n",
       "      <td>28.843812</td>\n",
       "      <td>64</td>\n",
       "      <td>6.5</td>\n",
       "      <td>2</td>\n",
       "      <td>B</td>\n",
       "      <td>3</td>\n",
       "    </tr>\n",
       "    <tr>\n",
       "      <th>4</th>\n",
       "      <td>8/9/2012</td>\n",
       "      <td>0</td>\n",
       "      <td>F</td>\n",
       "      <td>0</td>\n",
       "      <td>0</td>\n",
       "      <td>0</td>\n",
       "      <td>0</td>\n",
       "      <td>0</td>\n",
       "      <td>0</td>\n",
       "      <td>0</td>\n",
       "      <td>...</td>\n",
       "      <td>138.994023</td>\n",
       "      <td>163.377028</td>\n",
       "      <td>12.0</td>\n",
       "      <td>0.906862</td>\n",
       "      <td>27.959007</td>\n",
       "      <td>76</td>\n",
       "      <td>6.5</td>\n",
       "      <td>1</td>\n",
       "      <td>A</td>\n",
       "      <td>1</td>\n",
       "    </tr>\n",
       "    <tr>\n",
       "      <th>5</th>\n",
       "      <td>12/20/2012</td>\n",
       "      <td>0</td>\n",
       "      <td>F</td>\n",
       "      <td>0</td>\n",
       "      <td>0</td>\n",
       "      <td>0</td>\n",
       "      <td>1</td>\n",
       "      <td>0</td>\n",
       "      <td>1</td>\n",
       "      <td>0</td>\n",
       "      <td>...</td>\n",
       "      <td>138.634836</td>\n",
       "      <td>94.886654</td>\n",
       "      <td>11.5</td>\n",
       "      <td>1.242854</td>\n",
       "      <td>30.258927</td>\n",
       "      <td>67</td>\n",
       "      <td>5.6</td>\n",
       "      <td>2</td>\n",
       "      <td>E</td>\n",
       "      <td>4</td>\n",
       "    </tr>\n",
       "  </tbody>\n",
       "</table>\n",
       "<p>5 rows × 26 columns</p>\n",
       "</div>"
      ],
      "text/plain": [
       "          vdate rcount gender  dialysisrenalendstage  asthma  irondef  pneum  \\\n",
       "eid                                                                            \n",
       "1     8/29/2012      0      F                      0       0        0      0   \n",
       "2     5/26/2012     5+      F                      0       0        0      0   \n",
       "3     9/22/2012      1      F                      0       0        0      0   \n",
       "4      8/9/2012      0      F                      0       0        0      0   \n",
       "5    12/20/2012      0      F                      0       0        0      1   \n",
       "\n",
       "     substancedependence  psychologicaldisordermajor  depress  ...  \\\n",
       "eid                                                            ...   \n",
       "1                      0                           0        0  ...   \n",
       "2                      0                           0        0  ...   \n",
       "3                      0                           0        0  ...   \n",
       "4                      0                           0        0  ...   \n",
       "5                      0                           1        0  ...   \n",
       "\n",
       "         sodium     glucose  bloodureanitro  creatinine        bmi  pulse  \\\n",
       "eid                                                                         \n",
       "1    140.361132  192.476918            12.0    1.390722  30.432418     96   \n",
       "2    136.731692   94.078507             8.0    0.943164  28.460516     61   \n",
       "3    133.058514  130.530524            12.0    1.065750  28.843812     64   \n",
       "4    138.994023  163.377028            12.0    0.906862  27.959007     76   \n",
       "5    138.634836   94.886654            11.5    1.242854  30.258927     67   \n",
       "\n",
       "     respiration  secondarydiagnosisnonicd9  facid  lengthofstay  \n",
       "eid                                                               \n",
       "1            6.5                          4      B             3  \n",
       "2            6.5                          1      A             7  \n",
       "3            6.5                          2      B             3  \n",
       "4            6.5                          1      A             1  \n",
       "5            5.6                          2      E             4  \n",
       "\n",
       "[5 rows x 26 columns]"
      ]
     },
     "execution_count": 6,
     "metadata": {},
     "output_type": "execute_result"
    }
   ],
   "source": [
    "los_df.head()"
   ]
  },
  {
   "cell_type": "markdown",
   "metadata": {},
   "source": [
    "Consider what columns to remove. "
   ]
  },
  {
   "cell_type": "code",
   "execution_count": null,
   "metadata": {},
   "outputs": [],
   "source": []
  },
  {
   "cell_type": "markdown",
   "metadata": {},
   "source": [
    "Convert categories with only two options into a boolean value (e.g. for a gender column in which gender has only been provided as M or F, you could encode M as 0 and F as 1)."
   ]
  },
  {
   "cell_type": "code",
   "execution_count": null,
   "metadata": {},
   "outputs": [],
   "source": []
  },
  {
   "cell_type": "markdown",
   "metadata": {},
   "source": [
    "Convert columns with multiple options per category into multiple columns using one-hot encoding. "
   ]
  },
  {
   "cell_type": "code",
   "execution_count": null,
   "metadata": {},
   "outputs": [],
   "source": []
  },
  {
   "cell_type": "markdown",
   "metadata": {},
   "source": [
    "Train a model to predict length of stay based on the variables in this dataset. "
   ]
  },
  {
   "cell_type": "code",
   "execution_count": null,
   "metadata": {},
   "outputs": [],
   "source": []
  }
 ],
 "metadata": {
  "kernelspec": {
   "display_name": "ml",
   "language": "python",
   "name": "python3"
  },
  "language_info": {
   "codemirror_mode": {
    "name": "ipython",
    "version": 3
   },
   "file_extension": ".py",
   "mimetype": "text/x-python",
   "name": "python",
   "nbconvert_exporter": "python",
   "pygments_lexer": "ipython3",
   "version": "3.11.4"
  }
 },
 "nbformat": 4,
 "nbformat_minor": 2
}
